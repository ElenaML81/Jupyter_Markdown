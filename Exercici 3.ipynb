{
 "cells": [
  {
   "cell_type": "markdown",
   "id": "dc6ad8f5",
   "metadata": {},
   "source": [
    "Exemple de crear un títols amb diferents tamanys: "
   ]
  },
  {
   "cell_type": "markdown",
   "id": "4e78f91e",
   "metadata": {},
   "source": [
    "# AMB AQUEST\n",
    "## EXERCICI\n",
    "### VOLEM CREAR \n",
    "#### TÍTOLS DE \n",
    "##### DIFERENTS \n",
    "###### TAMANYS"
   ]
  },
  {
   "cell_type": "markdown",
   "id": "b6d7a18c",
   "metadata": {},
   "source": [
    "Exemple de com fer una llista: "
   ]
  },
  {
   "cell_type": "markdown",
   "id": "c91de630",
   "metadata": {},
   "source": [
    "* Argument 1\n",
    "* Argument 2\n",
    "* Argument 3\n",
    "    * Argument 3.1\n",
    "    * Argument 3.2\n",
    "* Argument 4"
   ]
  },
  {
   "cell_type": "markdown",
   "id": "befa5150",
   "metadata": {},
   "source": [
    "Exemple de fer una llista numerada: "
   ]
  },
  {
   "cell_type": "markdown",
   "id": "183e01d9",
   "metadata": {},
   "source": [
    "1. Primer argument\n",
    "2. Segon argument\n",
    "3. Tercer argument\n",
    "    1. Argument 3a\n",
    "    2. Argument 3b\n",
    "4. Quart argument"
   ]
  },
  {
   "cell_type": "markdown",
   "id": "375ccd2c",
   "metadata": {},
   "source": [
    "> També podem identar una part del text si volem.\n",
    ">> Com fem en aquest cas."
   ]
  },
  {
   "cell_type": "markdown",
   "id": "53496116",
   "metadata": {},
   "source": [
    "Canviem l'estil de la lletra a negreta i cursiva: "
   ]
  },
  {
   "cell_type": "markdown",
   "id": "559cf1fd",
   "metadata": {},
   "source": [
    "* Aquest és un text __en negreta__\n",
    "* Aquest és un text _en cursiva_\n",
    "* Aquest és un text ___en negreta i en cursiva___\n",
    "* Aquest és un text ~~que volem rattlar~~\n",
    "* \"També podem fer servir text entre cometes\""
   ]
  },
  {
   "cell_type": "markdown",
   "id": "72872f66",
   "metadata": {},
   "source": [
    "Exemple de afegir una imatge al notebook: "
   ]
  },
  {
   "attachments": {
    "imatge.png": {
     "image/png": "[encoded data removed]"
    }
   },
   "cell_type": "markdown",
   "id": "d68b4e69",
   "metadata": {},
   "source": [
    "![imatge.png](attachment:imatge.png)"
   ]
  }
 ],
 "metadata": {
  "kernelspec": {
   "display_name": "Python 3 (ipykernel)",
   "language": "python",
   "name": "python3"
  },
  "language_info": {
   "codemirror_mode": {
    "name": "ipython",
    "version": 3
   },
   "file_extension": ".py",
   "mimetype": "text/x-python",
   "name": "python",
   "nbconvert_exporter": "python",
   "pygments_lexer": "ipython3",
   "version": "3.9.7"
  }
 },
 "nbformat": 4,
 "nbformat_minor": 5
}
