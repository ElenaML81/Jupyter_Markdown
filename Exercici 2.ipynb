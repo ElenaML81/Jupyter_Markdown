{
 "cells": [
  {
   "cell_type": "markdown",
   "id": "d27fea1d",
   "metadata": {},
   "source": [
    "Examples of simple calculation: "
   ]
  },
  {
   "cell_type": "code",
   "execution_count": 1,
   "id": "1186c31b",
   "metadata": {},
   "outputs": [
    {
     "name": "stdout",
     "output_type": "stream",
     "text": [
      "550\n"
     ]
    }
   ],
   "source": [
    "x = 250\n",
    "y = 300\n",
    "print(x+y)"
   ]
  },
  {
   "cell_type": "code",
   "execution_count": 1,
   "id": "1c9c6b4b",
   "metadata": {},
   "outputs": [
    {
     "name": "stdout",
     "output_type": "stream",
     "text": [
      "0\n"
     ]
    }
   ],
   "source": [
    "x = 4\n",
    "y = 2\n",
    "print(x % y)"
   ]
  },
  {
   "cell_type": "code",
   "execution_count": 2,
   "id": "536b0064",
   "metadata": {},
   "outputs": [
    {
     "name": "stdout",
     "output_type": "stream",
     "text": [
      "30\n"
     ]
    }
   ],
   "source": [
    "x = 10\n",
    "y = 3\n",
    "z = x*y\n",
    "print(z)"
   ]
  },
  {
   "cell_type": "markdown",
   "id": "096dab14",
   "metadata": {},
   "source": [
    "Casting to convert integer to string: "
   ]
  },
  {
   "cell_type": "code",
   "execution_count": 2,
   "id": "892f883e",
   "metadata": {},
   "outputs": [
    {
     "name": "stdout",
     "output_type": "stream",
     "text": [
      "52\n"
     ]
    }
   ],
   "source": [
    "x = 5\n",
    "y = 2\n",
    "x = str(x)\n",
    "y = str(y)\n",
    "print(x+y)"
   ]
  },
  {
   "cell_type": "markdown",
   "id": "825cc5a9",
   "metadata": {},
   "source": [
    "Counting the characters in a string: "
   ]
  },
  {
   "cell_type": "code",
   "execution_count": 4,
   "id": "7fc42ce2",
   "metadata": {},
   "outputs": [
    {
     "name": "stdout",
     "output_type": "stream",
     "text": [
      "8\n"
     ]
    }
   ],
   "source": [
    "text = \"Universe\"\n",
    "print(len(text))"
   ]
  },
  {
   "cell_type": "markdown",
   "id": "7711e77c",
   "metadata": {},
   "source": [
    "Converting a string to upper case: "
   ]
  },
  {
   "cell_type": "code",
   "execution_count": 6,
   "id": "3e87cd99",
   "metadata": {},
   "outputs": [
    {
     "name": "stdout",
     "output_type": "stream",
     "text": [
      "I THINK TODAY IS GOING TO BE VERY COLD OUTSIDE.\n"
     ]
    }
   ],
   "source": [
    "string = \"I think today is going to be very cold outside.\"\n",
    "print(string.upper())"
   ]
  },
  {
   "cell_type": "markdown",
   "id": "17800766",
   "metadata": {},
   "source": [
    "Creating variables with strings: "
   ]
  },
  {
   "cell_type": "code",
   "execution_count": 6,
   "id": "302977d6",
   "metadata": {},
   "outputs": [
    {
     "name": "stdout",
     "output_type": "stream",
     "text": [
      "Hello world!!\n"
     ]
    }
   ],
   "source": [
    "x = \"Hello\"\n",
    "y = \"world!!\"\n",
    "print(x,y)"
   ]
  },
  {
   "cell_type": "markdown",
   "id": "7a357bc1",
   "metadata": {},
   "source": [
    "Example of use of booleans: "
   ]
  },
  {
   "cell_type": "code",
   "execution_count": 8,
   "id": "8c2f1d96",
   "metadata": {},
   "outputs": [
    {
     "name": "stdout",
     "output_type": "stream",
     "text": [
      "False\n",
      "True\n",
      "True\n"
     ]
    }
   ],
   "source": [
    "print(1 > 2)\n",
    "print(2 == 2)\n",
    "print(1 < 2)"
   ]
  },
  {
   "cell_type": "markdown",
   "id": "71d1431f",
   "metadata": {},
   "source": [
    "Example of conditional statements: "
   ]
  },
  {
   "cell_type": "code",
   "execution_count": 2,
   "id": "8a0b98a6",
   "metadata": {},
   "outputs": [
    {
     "name": "stdout",
     "output_type": "stream",
     "text": [
      "Result is bigger than 400.\n"
     ]
    }
   ],
   "source": [
    "x = 300\n",
    "y = 200\n",
    "result = x+y \n",
    "if result > 400: \n",
    "    print(\"Result is bigger than 400.\")\n",
    "else: \n",
    "    print(\"Result is smaller than 400.\")"
   ]
  },
  {
   "cell_type": "markdown",
   "id": "57ed12a9",
   "metadata": {},
   "source": [
    "Example of using a for loop to print numbers up to a number: "
   ]
  },
  {
   "cell_type": "code",
   "execution_count": 7,
   "id": "6d30bcf0",
   "metadata": {},
   "outputs": [
    {
     "name": "stdout",
     "output_type": "stream",
     "text": [
      "0\n",
      "1\n",
      "2\n",
      "3\n",
      "4\n"
     ]
    }
   ],
   "source": [
    "for i in range (5): \n",
    "    print(i)"
   ]
  },
  {
   "cell_type": "markdown",
   "id": "e1706ad3",
   "metadata": {},
   "source": [
    "Example of using a for loop with conditionals and a list: "
   ]
  },
  {
   "cell_type": "code",
   "execution_count": 7,
   "id": "659bd6c6",
   "metadata": {},
   "outputs": [
    {
     "name": "stdout",
     "output_type": "stream",
     "text": [
      "[2, 7, 8, 3, 5]\n"
     ]
    }
   ],
   "source": [
    "numbers = [15,33,2,45,7,8,76,3,44,5]\n",
    "smaller_numbers = []\n",
    "for number in numbers: \n",
    "    if number < 10: \n",
    "        smaller_numbers.append(number)\n",
    "print(smaller_numbers)"
   ]
  }
 ],
 "metadata": {
  "kernelspec": {
   "display_name": "Python 3 (ipykernel)",
   "language": "python",
   "name": "python3"
  },
  "language_info": {
   "codemirror_mode": {
    "name": "ipython",
    "version": 3
   },
   "file_extension": ".py",
   "mimetype": "text/x-python",
   "name": "python",
   "nbconvert_exporter": "python",
   "pygments_lexer": "ipython3",
   "version": "3.9.7"
  }
 },
 "nbformat": 4,
 "nbformat_minor": 5
}
